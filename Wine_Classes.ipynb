{
  "cells": [
    {
      "cell_type": "code",
      "execution_count": null,
      "metadata": {
        "id": "ABzCk3d3R-Ex"
      },
      "outputs": [],
      "source": [
        "# Import packages\n",
        "import pandas as pd\n",
        "import numpy as np\n",
        "import seaborn as sns"
      ]
    },
    {
      "cell_type": "code",
      "execution_count": null,
      "metadata": {
        "id": "NmSX41ydR-E5"
      },
      "outputs": [],
      "source": [
        "# Read dataset\n",
        "data = pd.read_csv('wine-class.csv')"
      ]
    },
    {
      "cell_type": "code",
      "execution_count": null,
      "metadata": {
        "id": "TU8vNptYR-E6",
        "outputId": "5a142492-f59d-455f-f9e2-fbae1dbf9c6d"
      },
      "outputs": [
        {
          "data": {
            "text/plain": [
              "(178, 14)"
            ]
          },
          "execution_count": 441,
          "metadata": {},
          "output_type": "execute_result"
        }
      ],
      "source": [
        "# Check the size\n",
        "data.shape"
      ]
    },
    {
      "cell_type": "code",
      "execution_count": null,
      "metadata": {
        "id": "UTUx3aKLR-E9",
        "outputId": "531ba24b-f57c-49e8-da88-87893237b912"
      },
      "outputs": [
        {
          "data": {
            "text/html": [
              "<div>\n",
              "<style scoped>\n",
              "    .dataframe tbody tr th:only-of-type {\n",
              "        vertical-align: middle;\n",
              "    }\n",
              "\n",
              "    .dataframe tbody tr th {\n",
              "        vertical-align: top;\n",
              "    }\n",
              "\n",
              "    .dataframe thead th {\n",
              "        text-align: right;\n",
              "    }\n",
              "</style>\n",
              "<table border=\"1\" class=\"dataframe\">\n",
              "  <thead>\n",
              "    <tr style=\"text-align: right;\">\n",
              "      <th></th>\n",
              "      <th>class</th>\n",
              "      <th>alcohol</th>\n",
              "      <th>malic_acid</th>\n",
              "      <th>ash</th>\n",
              "      <th>alcalinity_of_ash</th>\n",
              "      <th>magnesium</th>\n",
              "      <th>total_phenols</th>\n",
              "      <th>flavanoids</th>\n",
              "      <th>nonflavanoid_phenols</th>\n",
              "      <th>proanthocyanins</th>\n",
              "      <th>color_intensity</th>\n",
              "      <th>hue</th>\n",
              "      <th>od280/od315_of_diluted_wines</th>\n",
              "      <th>proline</th>\n",
              "    </tr>\n",
              "  </thead>\n",
              "  <tbody>\n",
              "    <tr>\n",
              "      <th>0</th>\n",
              "      <td>1</td>\n",
              "      <td>14.23</td>\n",
              "      <td>1.71</td>\n",
              "      <td>2.43</td>\n",
              "      <td>15.6</td>\n",
              "      <td>127.0</td>\n",
              "      <td>2.80</td>\n",
              "      <td>3.06</td>\n",
              "      <td>0.28</td>\n",
              "      <td>2.29</td>\n",
              "      <td>5.64</td>\n",
              "      <td>1.04</td>\n",
              "      <td>3.92</td>\n",
              "      <td>1065</td>\n",
              "    </tr>\n",
              "    <tr>\n",
              "      <th>1</th>\n",
              "      <td>1</td>\n",
              "      <td>13.20</td>\n",
              "      <td>1.78</td>\n",
              "      <td>2.14</td>\n",
              "      <td>11.2</td>\n",
              "      <td>100.0</td>\n",
              "      <td>2.65</td>\n",
              "      <td>2.76</td>\n",
              "      <td>0.26</td>\n",
              "      <td>1.28</td>\n",
              "      <td>4.38</td>\n",
              "      <td>1.05</td>\n",
              "      <td>3.40</td>\n",
              "      <td>1050</td>\n",
              "    </tr>\n",
              "    <tr>\n",
              "      <th>2</th>\n",
              "      <td>1</td>\n",
              "      <td>13.16</td>\n",
              "      <td>2.36</td>\n",
              "      <td>2.67</td>\n",
              "      <td>18.6</td>\n",
              "      <td>101.0</td>\n",
              "      <td>2.80</td>\n",
              "      <td>3.24</td>\n",
              "      <td>0.30</td>\n",
              "      <td>2.81</td>\n",
              "      <td>5.68</td>\n",
              "      <td>1.03</td>\n",
              "      <td>3.17</td>\n",
              "      <td>1185</td>\n",
              "    </tr>\n",
              "    <tr>\n",
              "      <th>3</th>\n",
              "      <td>1</td>\n",
              "      <td>14.37</td>\n",
              "      <td>1.95</td>\n",
              "      <td>2.50</td>\n",
              "      <td>16.8</td>\n",
              "      <td>113.0</td>\n",
              "      <td>3.85</td>\n",
              "      <td>3.49</td>\n",
              "      <td>0.24</td>\n",
              "      <td>2.18</td>\n",
              "      <td>7.80</td>\n",
              "      <td>0.86</td>\n",
              "      <td>3.45</td>\n",
              "      <td>1480</td>\n",
              "    </tr>\n",
              "    <tr>\n",
              "      <th>4</th>\n",
              "      <td>1</td>\n",
              "      <td>13.24</td>\n",
              "      <td>2.59</td>\n",
              "      <td>2.87</td>\n",
              "      <td>21.0</td>\n",
              "      <td>118.0</td>\n",
              "      <td>2.80</td>\n",
              "      <td>2.69</td>\n",
              "      <td>0.39</td>\n",
              "      <td>1.82</td>\n",
              "      <td>4.32</td>\n",
              "      <td>1.04</td>\n",
              "      <td>2.93</td>\n",
              "      <td>735</td>\n",
              "    </tr>\n",
              "  </tbody>\n",
              "</table>\n",
              "</div>"
            ],
            "text/plain": [
              "   class  alcohol   malic_acid   ash   alcalinity_of_ash   magnesium  \\\n",
              "0      1    14.23         1.71  2.43                15.6       127.0   \n",
              "1      1    13.20         1.78  2.14                11.2       100.0   \n",
              "2      1    13.16         2.36  2.67                18.6       101.0   \n",
              "3      1    14.37         1.95  2.50                16.8       113.0   \n",
              "4      1    13.24         2.59  2.87                21.0       118.0   \n",
              "\n",
              "    total_phenols   flavanoids   nonflavanoid_phenols   proanthocyanins  \\\n",
              "0            2.80         3.06                   0.28              2.29   \n",
              "1            2.65         2.76                   0.26              1.28   \n",
              "2            2.80         3.24                   0.30              2.81   \n",
              "3            3.85         3.49                   0.24              2.18   \n",
              "4            2.80         2.69                   0.39              1.82   \n",
              "\n",
              "    color_intensity   hue   od280/od315_of_diluted_wines   proline  \n",
              "0              5.64  1.04                           3.92      1065  \n",
              "1              4.38  1.05                           3.40      1050  \n",
              "2              5.68  1.03                           3.17      1185  \n",
              "3              7.80  0.86                           3.45      1480  \n",
              "4              4.32  1.04                           2.93       735  "
            ]
          },
          "execution_count": 442,
          "metadata": {},
          "output_type": "execute_result"
        }
      ],
      "source": [
        "data.head()"
      ]
    },
    {
      "cell_type": "code",
      "execution_count": null,
      "metadata": {
        "id": "oZZIPZUCR-E-",
        "outputId": "c58d765c-9a0c-4230-c45c-a7180ab2e294"
      },
      "outputs": [
        {
          "data": {
            "text/plain": [
              "class                              1.00\n",
              "alcohol                           11.03\n",
              " malic_acid                        0.74\n",
              " ash                               1.36\n",
              " alcalinity_of_ash                10.60\n",
              " magnesium                        70.00\n",
              " total_phenols                     0.98\n",
              " flavanoids                        0.34\n",
              " nonflavanoid_phenols              0.13\n",
              " proanthocyanins                   0.41\n",
              " color_intensity                   1.28\n",
              " hue                               0.48\n",
              " od280/od315_of_diluted_wines      1.27\n",
              " proline                         278.00\n",
              "dtype: float64"
            ]
          },
          "execution_count": 443,
          "metadata": {},
          "output_type": "execute_result"
        }
      ],
      "source": [
        "data.min()"
      ]
    },
    {
      "cell_type": "code",
      "execution_count": null,
      "metadata": {
        "id": "XtGCMW3OR-FA",
        "outputId": "7b97511b-2cbf-498a-bb3f-5df2e653780f"
      },
      "outputs": [
        {
          "data": {
            "text/plain": [
              "class                               3.00\n",
              "alcohol                            14.83\n",
              " malic_acid                         5.80\n",
              " ash                                3.23\n",
              " alcalinity_of_ash                 30.00\n",
              " magnesium                        162.00\n",
              " total_phenols                      3.88\n",
              " flavanoids                         5.08\n",
              " nonflavanoid_phenols               0.66\n",
              " proanthocyanins                    3.58\n",
              " color_intensity                   13.00\n",
              " hue                                1.71\n",
              " od280/od315_of_diluted_wines       4.00\n",
              " proline                         1680.00\n",
              "dtype: float64"
            ]
          },
          "execution_count": 444,
          "metadata": {},
          "output_type": "execute_result"
        }
      ],
      "source": [
        "data.max()"
      ]
    },
    {
      "cell_type": "code",
      "execution_count": null,
      "metadata": {
        "id": "0_CSmn4LR-FB",
        "outputId": "84173211-70b4-469b-960e-fe7cbc32270f"
      },
      "outputs": [
        {
          "data": {
            "text/plain": [
              "class                            0\n",
              "alcohol                          0\n",
              " malic_acid                      0\n",
              " ash                             0\n",
              " alcalinity_of_ash               0\n",
              " magnesium                       3\n",
              " total_phenols                   0\n",
              " flavanoids                      0\n",
              " nonflavanoid_phenols            0\n",
              " proanthocyanins                 0\n",
              " color_intensity                 0\n",
              " hue                             2\n",
              " od280/od315_of_diluted_wines    7\n",
              " proline                         0\n",
              "dtype: int64"
            ]
          },
          "execution_count": 445,
          "metadata": {},
          "output_type": "execute_result"
        }
      ],
      "source": [
        "# Check missing values\n",
        "data.isnull().sum()"
      ]
    },
    {
      "cell_type": "code",
      "execution_count": null,
      "metadata": {
        "id": "Li7CqT-XR-FC"
      },
      "outputs": [],
      "source": [
        "# Clean data\n",
        "data[' magnesium'] = data.replace(np.NaN, data[' magnesium'].median())\n",
        "data[' hue'] = data.replace(np.NaN, data[' hue'].median())\n",
        "data[' od280/od315_of_diluted_wines'] = data.replace(np.NaN, \n",
        "                                                     data[' od280/od315_of_diluted_wines'].median())"
      ]
    },
    {
      "cell_type": "code",
      "execution_count": null,
      "metadata": {
        "id": "S1yJ5mjFR-FE",
        "outputId": "b684f3ea-6fb6-43da-b01a-c137befa3949"
      },
      "outputs": [
        {
          "data": {
            "text/plain": [
              "class                            0\n",
              "alcohol                          0\n",
              " malic_acid                      0\n",
              " ash                             0\n",
              " alcalinity_of_ash               0\n",
              " magnesium                       0\n",
              " total_phenols                   0\n",
              " flavanoids                      0\n",
              " nonflavanoid_phenols            0\n",
              " proanthocyanins                 0\n",
              " color_intensity                 0\n",
              " hue                             0\n",
              " od280/od315_of_diluted_wines    0\n",
              " proline                         0\n",
              "dtype: int64"
            ]
          },
          "execution_count": 447,
          "metadata": {},
          "output_type": "execute_result"
        }
      ],
      "source": [
        "data.isnull().sum()"
      ]
    },
    {
      "cell_type": "code",
      "execution_count": null,
      "metadata": {
        "id": "HHdrsj5fR-FG"
      },
      "outputs": [],
      "source": [
        "# Input features\n",
        "X = data.drop('class', axis=1)"
      ]
    },
    {
      "cell_type": "code",
      "execution_count": null,
      "metadata": {
        "id": "5LuamE4nR-FH"
      },
      "outputs": [],
      "source": [
        "# Output\n",
        "y = data['class']"
      ]
    },
    {
      "cell_type": "code",
      "execution_count": null,
      "metadata": {
        "id": "quPFVCauR-FI",
        "outputId": "a1f6dc9e-2dcd-4cc6-fb5a-9a1244b15bfd"
      },
      "outputs": [
        {
          "data": {
            "text/plain": [
              "<matplotlib.axes._subplots.AxesSubplot at 0x7f75823dd0b8>"
            ]
          },
          "execution_count": 450,
          "metadata": {},
          "output_type": "execute_result"
        },
        {
          "data": {
            "image/png": "[encoded data removed]",
            "text/plain": [
              "<Figure size 432x288 with 1 Axes>"
            ]
          },
          "metadata": {
            "needs_background": "light"
          },
          "output_type": "display_data"
        }
      ],
      "source": [
        "# Count classes\n",
        "sns.countplot(y)"
      ]
    },
    {
      "cell_type": "code",
      "execution_count": null,
      "metadata": {
        "id": "pk1e53AnR-FJ",
        "outputId": "77809eb5-fb73-4ccc-9429-e2218d39b8b1"
      },
      "outputs": [
        {
          "data": {
            "text/html": [
              "<div>\n",
              "<style scoped>\n",
              "    .dataframe tbody tr th:only-of-type {\n",
              "        vertical-align: middle;\n",
              "    }\n",
              "\n",
              "    .dataframe tbody tr th {\n",
              "        vertical-align: top;\n",
              "    }\n",
              "\n",
              "    .dataframe thead th {\n",
              "        text-align: right;\n",
              "    }\n",
              "</style>\n",
              "<table border=\"1\" class=\"dataframe\">\n",
              "  <thead>\n",
              "    <tr style=\"text-align: right;\">\n",
              "      <th></th>\n",
              "      <th>alcohol</th>\n",
              "      <th>malic_acid</th>\n",
              "      <th>ash</th>\n",
              "      <th>alcalinity_of_ash</th>\n",
              "      <th>magnesium</th>\n",
              "      <th>total_phenols</th>\n",
              "      <th>flavanoids</th>\n",
              "      <th>nonflavanoid_phenols</th>\n",
              "      <th>proanthocyanins</th>\n",
              "      <th>color_intensity</th>\n",
              "      <th>hue</th>\n",
              "      <th>od280/od315_of_diluted_wines</th>\n",
              "      <th>proline</th>\n",
              "    </tr>\n",
              "  </thead>\n",
              "  <tbody>\n",
              "    <tr>\n",
              "      <th>0</th>\n",
              "      <td>14.23</td>\n",
              "      <td>1.71</td>\n",
              "      <td>2.43</td>\n",
              "      <td>15.6</td>\n",
              "      <td>1.0</td>\n",
              "      <td>2.80</td>\n",
              "      <td>3.06</td>\n",
              "      <td>0.28</td>\n",
              "      <td>2.29</td>\n",
              "      <td>5.64</td>\n",
              "      <td>1.0</td>\n",
              "      <td>1.0</td>\n",
              "      <td>1065</td>\n",
              "    </tr>\n",
              "    <tr>\n",
              "      <th>1</th>\n",
              "      <td>13.20</td>\n",
              "      <td>1.78</td>\n",
              "      <td>2.14</td>\n",
              "      <td>11.2</td>\n",
              "      <td>1.0</td>\n",
              "      <td>2.65</td>\n",
              "      <td>2.76</td>\n",
              "      <td>0.26</td>\n",
              "      <td>1.28</td>\n",
              "      <td>4.38</td>\n",
              "      <td>1.0</td>\n",
              "      <td>1.0</td>\n",
              "      <td>1050</td>\n",
              "    </tr>\n",
              "    <tr>\n",
              "      <th>2</th>\n",
              "      <td>13.16</td>\n",
              "      <td>2.36</td>\n",
              "      <td>2.67</td>\n",
              "      <td>18.6</td>\n",
              "      <td>1.0</td>\n",
              "      <td>2.80</td>\n",
              "      <td>3.24</td>\n",
              "      <td>0.30</td>\n",
              "      <td>2.81</td>\n",
              "      <td>5.68</td>\n",
              "      <td>1.0</td>\n",
              "      <td>1.0</td>\n",
              "      <td>1185</td>\n",
              "    </tr>\n",
              "    <tr>\n",
              "      <th>3</th>\n",
              "      <td>14.37</td>\n",
              "      <td>1.95</td>\n",
              "      <td>2.50</td>\n",
              "      <td>16.8</td>\n",
              "      <td>1.0</td>\n",
              "      <td>3.85</td>\n",
              "      <td>3.49</td>\n",
              "      <td>0.24</td>\n",
              "      <td>2.18</td>\n",
              "      <td>7.80</td>\n",
              "      <td>1.0</td>\n",
              "      <td>1.0</td>\n",
              "      <td>1480</td>\n",
              "    </tr>\n",
              "    <tr>\n",
              "      <th>4</th>\n",
              "      <td>13.24</td>\n",
              "      <td>2.59</td>\n",
              "      <td>2.87</td>\n",
              "      <td>21.0</td>\n",
              "      <td>1.0</td>\n",
              "      <td>2.80</td>\n",
              "      <td>2.69</td>\n",
              "      <td>0.39</td>\n",
              "      <td>1.82</td>\n",
              "      <td>4.32</td>\n",
              "      <td>1.0</td>\n",
              "      <td>1.0</td>\n",
              "      <td>735</td>\n",
              "    </tr>\n",
              "  </tbody>\n",
              "</table>\n",
              "</div>"
            ],
            "text/plain": [
              "   alcohol   malic_acid   ash   alcalinity_of_ash   magnesium   total_phenols  \\\n",
              "0    14.23         1.71  2.43                15.6         1.0            2.80   \n",
              "1    13.20         1.78  2.14                11.2         1.0            2.65   \n",
              "2    13.16         2.36  2.67                18.6         1.0            2.80   \n",
              "3    14.37         1.95  2.50                16.8         1.0            3.85   \n",
              "4    13.24         2.59  2.87                21.0         1.0            2.80   \n",
              "\n",
              "    flavanoids   nonflavanoid_phenols   proanthocyanins   color_intensity  \\\n",
              "0         3.06                   0.28              2.29              5.64   \n",
              "1         2.76                   0.26              1.28              4.38   \n",
              "2         3.24                   0.30              2.81              5.68   \n",
              "3         3.49                   0.24              2.18              7.80   \n",
              "4         2.69                   0.39              1.82              4.32   \n",
              "\n",
              "    hue   od280/od315_of_diluted_wines   proline  \n",
              "0   1.0                            1.0      1065  \n",
              "1   1.0                            1.0      1050  \n",
              "2   1.0                            1.0      1185  \n",
              "3   1.0                            1.0      1480  \n",
              "4   1.0                            1.0       735  "
            ]
          },
          "execution_count": 451,
          "metadata": {},
          "output_type": "execute_result"
        }
      ],
      "source": [
        "X.head()"
      ]
    },
    {
      "cell_type": "code",
      "execution_count": null,
      "metadata": {
        "id": "EqqL2fmMR-FK",
        "outputId": "07340707-cab0-41eb-c2b8-717153e57ea1"
      },
      "outputs": [
        {
          "name": "stdout",
          "output_type": "stream",
          "text": [
            "<class 'pandas.core.frame.DataFrame'>\n",
            "RangeIndex: 178 entries, 0 to 177\n",
            "Data columns (total 13 columns):\n",
            "alcohol                          178 non-null float64\n",
            " malic_acid                      178 non-null float64\n",
            " ash                             178 non-null float64\n",
            " alcalinity_of_ash               178 non-null float64\n",
            " magnesium                       178 non-null float64\n",
            " total_phenols                   178 non-null float64\n",
            " flavanoids                      178 non-null float64\n",
            " nonflavanoid_phenols            178 non-null float64\n",
            " proanthocyanins                 178 non-null float64\n",
            " color_intensity                 178 non-null float64\n",
            " hue                             178 non-null float64\n",
            " od280/od315_of_diluted_wines    178 non-null float64\n",
            " proline                         178 non-null int64\n",
            "dtypes: float64(12), int64(1)\n",
            "memory usage: 18.2 KB\n"
          ]
        }
      ],
      "source": [
        "X.info()"
      ]
    },
    {
      "cell_type": "code",
      "execution_count": null,
      "metadata": {
        "id": "WHWlwH83R-FL"
      },
      "outputs": [],
      "source": [
        "# Transpose\n",
        "Xt = X.T"
      ]
    },
    {
      "cell_type": "code",
      "execution_count": null,
      "metadata": {
        "id": "VAvZcLvWR-FM",
        "outputId": "214f3746-22cf-456a-c65d-9e8db2c77603"
      },
      "outputs": [
        {
          "name": "stdout",
          "output_type": "stream",
          "text": [
            "2\n"
          ]
        }
      ],
      "source": [
        "# Find duplicated values\n",
        "print(Xt.duplicated().sum())"
      ]
    },
    {
      "cell_type": "code",
      "execution_count": null,
      "metadata": {
        "id": "sAbIXmNBR-FM"
      },
      "outputs": [],
      "source": [
        "unique_features = Xt.drop_duplicates(keep='first').T"
      ]
    },
    {
      "cell_type": "code",
      "execution_count": null,
      "metadata": {
        "id": "xdCJFa62R-FN"
      },
      "outputs": [],
      "source": [
        "unique_features.shape\n",
        "X = unique_features"
      ]
    },
    {
      "cell_type": "code",
      "execution_count": null,
      "metadata": {
        "id": "1p-ehNrGR-FO",
        "outputId": "ec5148ea-9712-491d-a13f-c93605560d1e"
      },
      "outputs": [
        {
          "data": {
            "text/plain": [
              "(178, 11)"
            ]
          },
          "execution_count": 457,
          "metadata": {},
          "output_type": "execute_result"
        }
      ],
      "source": [
        "X.shape"
      ]
    },
    {
      "cell_type": "code",
      "execution_count": null,
      "metadata": {
        "id": "gGUt2nFxR-FP"
      },
      "outputs": [],
      "source": [
        "correlated_features = set()\n",
        "correlation_matrix = data.corr(method='spearman') # use pearson correlation"
      ]
    },
    {
      "cell_type": "code",
      "execution_count": null,
      "metadata": {
        "id": "p0IkYlZCR-FQ",
        "outputId": "cab5404a-c4a6-448c-fc9e-8979cc2f1439"
      },
      "outputs": [
        {
          "data": {
            "text/html": [
              "<div>\n",
              "<style scoped>\n",
              "    .dataframe tbody tr th:only-of-type {\n",
              "        vertical-align: middle;\n",
              "    }\n",
              "\n",
              "    .dataframe tbody tr th {\n",
              "        vertical-align: top;\n",
              "    }\n",
              "\n",
              "    .dataframe thead th {\n",
              "        text-align: right;\n",
              "    }\n",
              "</style>\n",
              "<table border=\"1\" class=\"dataframe\">\n",
              "  <thead>\n",
              "    <tr style=\"text-align: right;\">\n",
              "      <th></th>\n",
              "      <th>class</th>\n",
              "      <th>alcohol</th>\n",
              "      <th>malic_acid</th>\n",
              "      <th>ash</th>\n",
              "      <th>alcalinity_of_ash</th>\n",
              "      <th>magnesium</th>\n",
              "      <th>total_phenols</th>\n",
              "      <th>flavanoids</th>\n",
              "      <th>nonflavanoid_phenols</th>\n",
              "      <th>proanthocyanins</th>\n",
              "      <th>color_intensity</th>\n",
              "      <th>hue</th>\n",
              "      <th>od280/od315_of_diluted_wines</th>\n",
              "      <th>proline</th>\n",
              "    </tr>\n",
              "  </thead>\n",
              "  <tbody>\n",
              "    <tr>\n",
              "      <th>class</th>\n",
              "      <td>1.000000</td>\n",
              "      <td>-0.354167</td>\n",
              "      <td>0.346913</td>\n",
              "      <td>-0.053988</td>\n",
              "      <td>0.569792</td>\n",
              "      <td>1.000000</td>\n",
              "      <td>-0.726544</td>\n",
              "      <td>-0.854908</td>\n",
              "      <td>0.474205</td>\n",
              "      <td>-0.570648</td>\n",
              "      <td>0.131170</td>\n",
              "      <td>1.000000</td>\n",
              "      <td>1.000000</td>\n",
              "      <td>-0.576383</td>\n",
              "    </tr>\n",
              "    <tr>\n",
              "      <th>alcohol</th>\n",
              "      <td>-0.354167</td>\n",
              "      <td>1.000000</td>\n",
              "      <td>0.140430</td>\n",
              "      <td>0.243722</td>\n",
              "      <td>-0.306598</td>\n",
              "      <td>-0.354167</td>\n",
              "      <td>0.310920</td>\n",
              "      <td>0.294740</td>\n",
              "      <td>-0.162207</td>\n",
              "      <td>0.192734</td>\n",
              "      <td>0.635425</td>\n",
              "      <td>-0.354167</td>\n",
              "      <td>-0.354167</td>\n",
              "      <td>0.633580</td>\n",
              "    </tr>\n",
              "    <tr>\n",
              "      <th>malic_acid</th>\n",
              "      <td>0.346913</td>\n",
              "      <td>0.140430</td>\n",
              "      <td>1.000000</td>\n",
              "      <td>0.230674</td>\n",
              "      <td>0.304069</td>\n",
              "      <td>0.346913</td>\n",
              "      <td>-0.280225</td>\n",
              "      <td>-0.325202</td>\n",
              "      <td>0.255236</td>\n",
              "      <td>-0.244825</td>\n",
              "      <td>0.290307</td>\n",
              "      <td>0.346913</td>\n",
              "      <td>0.346913</td>\n",
              "      <td>-0.057466</td>\n",
              "    </tr>\n",
              "    <tr>\n",
              "      <th>ash</th>\n",
              "      <td>-0.053988</td>\n",
              "      <td>0.243722</td>\n",
              "      <td>0.230674</td>\n",
              "      <td>1.000000</td>\n",
              "      <td>0.366374</td>\n",
              "      <td>-0.053988</td>\n",
              "      <td>0.132193</td>\n",
              "      <td>0.078796</td>\n",
              "      <td>0.145583</td>\n",
              "      <td>0.024384</td>\n",
              "      <td>0.283047</td>\n",
              "      <td>-0.053988</td>\n",
              "      <td>-0.053988</td>\n",
              "      <td>0.253163</td>\n",
              "    </tr>\n",
              "    <tr>\n",
              "      <th>alcalinity_of_ash</th>\n",
              "      <td>0.569792</td>\n",
              "      <td>-0.306598</td>\n",
              "      <td>0.304069</td>\n",
              "      <td>0.366374</td>\n",
              "      <td>1.000000</td>\n",
              "      <td>0.569792</td>\n",
              "      <td>-0.376657</td>\n",
              "      <td>-0.443770</td>\n",
              "      <td>0.389390</td>\n",
              "      <td>-0.253695</td>\n",
              "      <td>-0.073776</td>\n",
              "      <td>0.569792</td>\n",
              "      <td>0.569792</td>\n",
              "      <td>-0.456090</td>\n",
              "    </tr>\n",
              "    <tr>\n",
              "      <th>magnesium</th>\n",
              "      <td>1.000000</td>\n",
              "      <td>-0.354167</td>\n",
              "      <td>0.346913</td>\n",
              "      <td>-0.053988</td>\n",
              "      <td>0.569792</td>\n",
              "      <td>1.000000</td>\n",
              "      <td>-0.726544</td>\n",
              "      <td>-0.854908</td>\n",
              "      <td>0.474205</td>\n",
              "      <td>-0.570648</td>\n",
              "      <td>0.131170</td>\n",
              "      <td>1.000000</td>\n",
              "      <td>1.000000</td>\n",
              "      <td>-0.576383</td>\n",
              "    </tr>\n",
              "    <tr>\n",
              "      <th>total_phenols</th>\n",
              "      <td>-0.726544</td>\n",
              "      <td>0.310920</td>\n",
              "      <td>-0.280225</td>\n",
              "      <td>0.132193</td>\n",
              "      <td>-0.376657</td>\n",
              "      <td>-0.726544</td>\n",
              "      <td>1.000000</td>\n",
              "      <td>0.879404</td>\n",
              "      <td>-0.448013</td>\n",
              "      <td>0.666689</td>\n",
              "      <td>0.011162</td>\n",
              "      <td>-0.726544</td>\n",
              "      <td>-0.726544</td>\n",
              "      <td>0.419470</td>\n",
              "    </tr>\n",
              "    <tr>\n",
              "      <th>flavanoids</th>\n",
              "      <td>-0.854908</td>\n",
              "      <td>0.294740</td>\n",
              "      <td>-0.325202</td>\n",
              "      <td>0.078796</td>\n",
              "      <td>-0.443770</td>\n",
              "      <td>-0.854908</td>\n",
              "      <td>0.879404</td>\n",
              "      <td>1.000000</td>\n",
              "      <td>-0.543897</td>\n",
              "      <td>0.730322</td>\n",
              "      <td>-0.042910</td>\n",
              "      <td>-0.854908</td>\n",
              "      <td>-0.854908</td>\n",
              "      <td>0.429904</td>\n",
              "    </tr>\n",
              "    <tr>\n",
              "      <th>nonflavanoid_phenols</th>\n",
              "      <td>0.474205</td>\n",
              "      <td>-0.162207</td>\n",
              "      <td>0.255236</td>\n",
              "      <td>0.145583</td>\n",
              "      <td>0.389390</td>\n",
              "      <td>0.474205</td>\n",
              "      <td>-0.448013</td>\n",
              "      <td>-0.543897</td>\n",
              "      <td>1.000000</td>\n",
              "      <td>-0.384629</td>\n",
              "      <td>0.059639</td>\n",
              "      <td>0.474205</td>\n",
              "      <td>0.474205</td>\n",
              "      <td>-0.270112</td>\n",
              "    </tr>\n",
              "    <tr>\n",
              "      <th>proanthocyanins</th>\n",
              "      <td>-0.570648</td>\n",
              "      <td>0.192734</td>\n",
              "      <td>-0.244825</td>\n",
              "      <td>0.024384</td>\n",
              "      <td>-0.253695</td>\n",
              "      <td>-0.570648</td>\n",
              "      <td>0.666689</td>\n",
              "      <td>0.730322</td>\n",
              "      <td>-0.384629</td>\n",
              "      <td>1.000000</td>\n",
              "      <td>-0.030947</td>\n",
              "      <td>-0.570648</td>\n",
              "      <td>-0.570648</td>\n",
              "      <td>0.308249</td>\n",
              "    </tr>\n",
              "    <tr>\n",
              "      <th>color_intensity</th>\n",
              "      <td>0.131170</td>\n",
              "      <td>0.635425</td>\n",
              "      <td>0.290307</td>\n",
              "      <td>0.283047</td>\n",
              "      <td>-0.073776</td>\n",
              "      <td>0.131170</td>\n",
              "      <td>0.011162</td>\n",
              "      <td>-0.042910</td>\n",
              "      <td>0.059639</td>\n",
              "      <td>-0.030947</td>\n",
              "      <td>1.000000</td>\n",
              "      <td>0.131170</td>\n",
              "      <td>0.131170</td>\n",
              "      <td>0.457096</td>\n",
              "    </tr>\n",
              "    <tr>\n",
              "      <th>hue</th>\n",
              "      <td>1.000000</td>\n",
              "      <td>-0.354167</td>\n",
              "      <td>0.346913</td>\n",
              "      <td>-0.053988</td>\n",
              "      <td>0.569792</td>\n",
              "      <td>1.000000</td>\n",
              "      <td>-0.726544</td>\n",
              "      <td>-0.854908</td>\n",
              "      <td>0.474205</td>\n",
              "      <td>-0.570648</td>\n",
              "      <td>0.131170</td>\n",
              "      <td>1.000000</td>\n",
              "      <td>1.000000</td>\n",
              "      <td>-0.576383</td>\n",
              "    </tr>\n",
              "    <tr>\n",
              "      <th>od280/od315_of_diluted_wines</th>\n",
              "      <td>1.000000</td>\n",
              "      <td>-0.354167</td>\n",
              "      <td>0.346913</td>\n",
              "      <td>-0.053988</td>\n",
              "      <td>0.569792</td>\n",
              "      <td>1.000000</td>\n",
              "      <td>-0.726544</td>\n",
              "      <td>-0.854908</td>\n",
              "      <td>0.474205</td>\n",
              "      <td>-0.570648</td>\n",
              "      <td>0.131170</td>\n",
              "      <td>1.000000</td>\n",
              "      <td>1.000000</td>\n",
              "      <td>-0.576383</td>\n",
              "    </tr>\n",
              "    <tr>\n",
              "      <th>proline</th>\n",
              "      <td>-0.576383</td>\n",
              "      <td>0.633580</td>\n",
              "      <td>-0.057466</td>\n",
              "      <td>0.253163</td>\n",
              "      <td>-0.456090</td>\n",
              "      <td>-0.576383</td>\n",
              "      <td>0.419470</td>\n",
              "      <td>0.429904</td>\n",
              "      <td>-0.270112</td>\n",
              "      <td>0.308249</td>\n",
              "      <td>0.457096</td>\n",
              "      <td>-0.576383</td>\n",
              "      <td>-0.576383</td>\n",
              "      <td>1.000000</td>\n",
              "    </tr>\n",
              "  </tbody>\n",
              "</table>\n",
              "</div>"
            ],
            "text/plain": [
              "                                  class   alcohol   malic_acid       ash  \\\n",
              "class                          1.000000 -0.354167     0.346913 -0.053988   \n",
              "alcohol                       -0.354167  1.000000     0.140430  0.243722   \n",
              " malic_acid                    0.346913  0.140430     1.000000  0.230674   \n",
              " ash                          -0.053988  0.243722     0.230674  1.000000   \n",
              " alcalinity_of_ash             0.569792 -0.306598     0.304069  0.366374   \n",
              " magnesium                     1.000000 -0.354167     0.346913 -0.053988   \n",
              " total_phenols                -0.726544  0.310920    -0.280225  0.132193   \n",
              " flavanoids                   -0.854908  0.294740    -0.325202  0.078796   \n",
              " nonflavanoid_phenols          0.474205 -0.162207     0.255236  0.145583   \n",
              " proanthocyanins              -0.570648  0.192734    -0.244825  0.024384   \n",
              " color_intensity               0.131170  0.635425     0.290307  0.283047   \n",
              " hue                           1.000000 -0.354167     0.346913 -0.053988   \n",
              " od280/od315_of_diluted_wines  1.000000 -0.354167     0.346913 -0.053988   \n",
              " proline                      -0.576383  0.633580    -0.057466  0.253163   \n",
              "\n",
              "                                alcalinity_of_ash   magnesium   total_phenols  \\\n",
              "class                                    0.569792    1.000000       -0.726544   \n",
              "alcohol                                 -0.306598   -0.354167        0.310920   \n",
              " malic_acid                              0.304069    0.346913       -0.280225   \n",
              " ash                                     0.366374   -0.053988        0.132193   \n",
              " alcalinity_of_ash                       1.000000    0.569792       -0.376657   \n",
              " magnesium                               0.569792    1.000000       -0.726544   \n",
              " total_phenols                          -0.376657   -0.726544        1.000000   \n",
              " flavanoids                             -0.443770   -0.854908        0.879404   \n",
              " nonflavanoid_phenols                    0.389390    0.474205       -0.448013   \n",
              " proanthocyanins                        -0.253695   -0.570648        0.666689   \n",
              " color_intensity                        -0.073776    0.131170        0.011162   \n",
              " hue                                     0.569792    1.000000       -0.726544   \n",
              " od280/od315_of_diluted_wines            0.569792    1.000000       -0.726544   \n",
              " proline                                -0.456090   -0.576383        0.419470   \n",
              "\n",
              "                                flavanoids   nonflavanoid_phenols  \\\n",
              "class                            -0.854908               0.474205   \n",
              "alcohol                           0.294740              -0.162207   \n",
              " malic_acid                      -0.325202               0.255236   \n",
              " ash                              0.078796               0.145583   \n",
              " alcalinity_of_ash               -0.443770               0.389390   \n",
              " magnesium                       -0.854908               0.474205   \n",
              " total_phenols                    0.879404              -0.448013   \n",
              " flavanoids                       1.000000              -0.543897   \n",
              " nonflavanoid_phenols            -0.543897               1.000000   \n",
              " proanthocyanins                  0.730322              -0.384629   \n",
              " color_intensity                 -0.042910               0.059639   \n",
              " hue                             -0.854908               0.474205   \n",
              " od280/od315_of_diluted_wines    -0.854908               0.474205   \n",
              " proline                          0.429904              -0.270112   \n",
              "\n",
              "                                proanthocyanins   color_intensity       hue  \\\n",
              "class                                 -0.570648          0.131170  1.000000   \n",
              "alcohol                                0.192734          0.635425 -0.354167   \n",
              " malic_acid                           -0.244825          0.290307  0.346913   \n",
              " ash                                   0.024384          0.283047 -0.053988   \n",
              " alcalinity_of_ash                    -0.253695         -0.073776  0.569792   \n",
              " magnesium                            -0.570648          0.131170  1.000000   \n",
              " total_phenols                         0.666689          0.011162 -0.726544   \n",
              " flavanoids                            0.730322         -0.042910 -0.854908   \n",
              " nonflavanoid_phenols                 -0.384629          0.059639  0.474205   \n",
              " proanthocyanins                       1.000000         -0.030947 -0.570648   \n",
              " color_intensity                      -0.030947          1.000000  0.131170   \n",
              " hue                                  -0.570648          0.131170  1.000000   \n",
              " od280/od315_of_diluted_wines         -0.570648          0.131170  1.000000   \n",
              " proline                               0.308249          0.457096 -0.576383   \n",
              "\n",
              "                                od280/od315_of_diluted_wines   proline  \n",
              "class                                               1.000000 -0.576383  \n",
              "alcohol                                            -0.354167  0.633580  \n",
              " malic_acid                                         0.346913 -0.057466  \n",
              " ash                                               -0.053988  0.253163  \n",
              " alcalinity_of_ash                                  0.569792 -0.456090  \n",
              " magnesium                                          1.000000 -0.576383  \n",
              " total_phenols                                     -0.726544  0.419470  \n",
              " flavanoids                                        -0.854908  0.429904  \n",
              " nonflavanoid_phenols                               0.474205 -0.270112  \n",
              " proanthocyanins                                   -0.570648  0.308249  \n",
              " color_intensity                                    0.131170  0.457096  \n",
              " hue                                                1.000000 -0.576383  \n",
              " od280/od315_of_diluted_wines                       1.000000 -0.576383  \n",
              " proline                                           -0.576383  1.000000  "
            ]
          },
          "execution_count": 461,
          "metadata": {},
          "output_type": "execute_result"
        }
      ],
      "source": [
        "correlation_matrix"
      ]
    },
    {
      "cell_type": "code",
      "execution_count": null,
      "metadata": {
        "id": "W7eAHaAlR-FQ"
      },
      "outputs": [],
      "source": [
        "# Remove uncorrelated features\n",
        "X.drop(' ash', axis=1, inplace=True)"
      ]
    },
    {
      "cell_type": "code",
      "execution_count": null,
      "metadata": {
        "id": "TfrsnMC9R-FR",
        "outputId": "09159256-fbf4-42b4-f7de-e8e9997d61f7"
      },
      "outputs": [
        {
          "data": {
            "text/plain": [
              "(178, 10)"
            ]
          },
          "execution_count": 463,
          "metadata": {},
          "output_type": "execute_result"
        }
      ],
      "source": [
        "X.shape"
      ]
    },
    {
      "cell_type": "code",
      "execution_count": null,
      "metadata": {
        "id": "D0kcZINNR-FS"
      },
      "outputs": [],
      "source": [
        "from sklearn.feature_selection import SelectKBest\n",
        "from sklearn.feature_selection import chi2"
      ]
    },
    {
      "cell_type": "code",
      "execution_count": null,
      "metadata": {
        "id": "8jN9f78nR-FS"
      },
      "outputs": [],
      "source": [
        "# Feature extraction\n",
        "test = SelectKBest(score_func=chi2, k=5)\n",
        "fit = test.fit(X, y)"
      ]
    },
    {
      "cell_type": "code",
      "execution_count": null,
      "metadata": {
        "id": "HHeiK46wR-FT",
        "outputId": "a1a545c5-778e-41e9-faf0-198a66294439"
      },
      "outputs": [
        {
          "name": "stdout",
          "output_type": "stream",
          "text": [
            "[[1.560e+01 1.000e+00 3.060e+00 5.640e+00 1.065e+03]\n",
            " [1.120e+01 1.000e+00 2.760e+00 4.380e+00 1.050e+03]\n",
            " [1.860e+01 1.000e+00 3.240e+00 5.680e+00 1.185e+03]\n",
            " [1.680e+01 1.000e+00 3.490e+00 7.800e+00 1.480e+03]\n",
            " [2.100e+01 1.000e+00 2.690e+00 4.320e+00 7.350e+02]]\n"
          ]
        }
      ],
      "source": [
        "features = fit.transform(X)\n",
        "# Summarize selected features\n",
        "print(features[0:5,:])"
      ]
    },
    {
      "cell_type": "code",
      "execution_count": null,
      "metadata": {
        "id": "E5EWvJfuR-FT"
      },
      "outputs": [],
      "source": [
        "\n",
        "cols = [' alcalinity_of_ash',' magnesium',' flavanoids',\n",
        "        ' color_intensity',' proline' ]"
      ]
    },
    {
      "cell_type": "code",
      "execution_count": null,
      "metadata": {
        "id": "wsNelhqmR-FU"
      },
      "outputs": [],
      "source": [
        "X = X[cols]"
      ]
    },
    {
      "cell_type": "code",
      "execution_count": null,
      "metadata": {
        "id": "SIhP-PwsR-FU",
        "outputId": "1d0cdfcb-be76-4335-f02b-3e8362468662"
      },
      "outputs": [
        {
          "data": {
            "text/html": [
              "<div>\n",
              "<style scoped>\n",
              "    .dataframe tbody tr th:only-of-type {\n",
              "        vertical-align: middle;\n",
              "    }\n",
              "\n",
              "    .dataframe tbody tr th {\n",
              "        vertical-align: top;\n",
              "    }\n",
              "\n",
              "    .dataframe thead th {\n",
              "        text-align: right;\n",
              "    }\n",
              "</style>\n",
              "<table border=\"1\" class=\"dataframe\">\n",
              "  <thead>\n",
              "    <tr style=\"text-align: right;\">\n",
              "      <th></th>\n",
              "      <th>alcalinity_of_ash</th>\n",
              "      <th>magnesium</th>\n",
              "      <th>flavanoids</th>\n",
              "      <th>color_intensity</th>\n",
              "      <th>proline</th>\n",
              "    </tr>\n",
              "  </thead>\n",
              "  <tbody>\n",
              "    <tr>\n",
              "      <th>0</th>\n",
              "      <td>15.6</td>\n",
              "      <td>1.0</td>\n",
              "      <td>3.06</td>\n",
              "      <td>5.64</td>\n",
              "      <td>1065.0</td>\n",
              "    </tr>\n",
              "    <tr>\n",
              "      <th>1</th>\n",
              "      <td>11.2</td>\n",
              "      <td>1.0</td>\n",
              "      <td>2.76</td>\n",
              "      <td>4.38</td>\n",
              "      <td>1050.0</td>\n",
              "    </tr>\n",
              "    <tr>\n",
              "      <th>2</th>\n",
              "      <td>18.6</td>\n",
              "      <td>1.0</td>\n",
              "      <td>3.24</td>\n",
              "      <td>5.68</td>\n",
              "      <td>1185.0</td>\n",
              "    </tr>\n",
              "    <tr>\n",
              "      <th>3</th>\n",
              "      <td>16.8</td>\n",
              "      <td>1.0</td>\n",
              "      <td>3.49</td>\n",
              "      <td>7.80</td>\n",
              "      <td>1480.0</td>\n",
              "    </tr>\n",
              "    <tr>\n",
              "      <th>4</th>\n",
              "      <td>21.0</td>\n",
              "      <td>1.0</td>\n",
              "      <td>2.69</td>\n",
              "      <td>4.32</td>\n",
              "      <td>735.0</td>\n",
              "    </tr>\n",
              "  </tbody>\n",
              "</table>\n",
              "</div>"
            ],
            "text/plain": [
              "    alcalinity_of_ash   magnesium   flavanoids   color_intensity   proline\n",
              "0                15.6         1.0         3.06              5.64    1065.0\n",
              "1                11.2         1.0         2.76              4.38    1050.0\n",
              "2                18.6         1.0         3.24              5.68    1185.0\n",
              "3                16.8         1.0         3.49              7.80    1480.0\n",
              "4                21.0         1.0         2.69              4.32     735.0"
            ]
          },
          "execution_count": 469,
          "metadata": {},
          "output_type": "execute_result"
        }
      ],
      "source": [
        "X.head()"
      ]
    },
    {
      "cell_type": "code",
      "execution_count": null,
      "metadata": {
        "id": "pqZbElz3R-FU"
      },
      "outputs": [],
      "source": [
        "from sklearn.ensemble import IsolationForest\n",
        "isf = IsolationForest(n_estimators=100, random_state=0)\n",
        "isf = isf.fit(X)\n",
        "clean = isf.predict(X)"
      ]
    },
    {
      "cell_type": "code",
      "execution_count": null,
      "metadata": {
        "id": "XmniBg4hR-FV"
      },
      "outputs": [],
      "source": [
        "X = X[clean==1]\n",
        "y = y[clean==1]"
      ]
    },
    {
      "cell_type": "code",
      "execution_count": null,
      "metadata": {
        "id": "Bv5SXe9vR-FV",
        "outputId": "cc2421d4-eedb-45d3-87b0-a171a620d6c5"
      },
      "outputs": [
        {
          "data": {
            "text/plain": [
              "(143, 5)"
            ]
          },
          "execution_count": 472,
          "metadata": {},
          "output_type": "execute_result"
        }
      ],
      "source": [
        "X.shape"
      ]
    },
    {
      "cell_type": "code",
      "execution_count": null,
      "metadata": {
        "id": "BJv_cMtzR-FW"
      },
      "outputs": [],
      "source": [
        "from imblearn.over_sampling import RandomOverSampler, SMOTE "
      ]
    },
    {
      "cell_type": "code",
      "execution_count": null,
      "metadata": {
        "id": "dtl_vAegR-FW",
        "outputId": "60714cc5-bd3d-4830-d954-b8930c880043"
      },
      "outputs": [
        {
          "data": {
            "text/plain": [
              "<matplotlib.axes._subplots.AxesSubplot at 0x7f7582398198>"
            ]
          },
          "execution_count": 473,
          "metadata": {},
          "output_type": "execute_result"
        },
        {
          "data": {
            "image/png": "[encoded data removed]",
            "text/plain": [
              "<Figure size 432x288 with 1 Axes>"
            ]
          },
          "metadata": {
            "needs_background": "light"
          },
          "output_type": "display_data"
        }
      ],
      "source": [
        "sns.countplot(y)"
      ]
    },
    {
      "cell_type": "code",
      "execution_count": null,
      "metadata": {
        "id": "u9hG6Si2R-FX"
      },
      "outputs": [],
      "source": [
        "rus = RandomOverSampler(random_state = 0) \n",
        "X_res, y_res = rus.fit_resample(X, y) \n",
        "   \n",
        "X_res = pd.DataFrame(X_res) \n",
        "Y_res = pd.DataFrame(y_res) "
      ]
    },
    {
      "cell_type": "code",
      "execution_count": null,
      "metadata": {
        "id": "4xCF6LAvR-FX",
        "outputId": "afd5e361-1d58-499e-e14c-8e6ca3918496"
      },
      "outputs": [
        {
          "data": {
            "text/plain": [
              "(198, 5)"
            ]
          },
          "execution_count": 476,
          "metadata": {},
          "output_type": "execute_result"
        }
      ],
      "source": [
        "X_res.shape"
      ]
    },
    {
      "cell_type": "code",
      "execution_count": null,
      "metadata": {
        "id": "75hhqvNPR-FY",
        "outputId": "fadf2d5a-e9f5-4cd0-b77d-c3ce61f6de91"
      },
      "outputs": [
        {
          "data": {
            "text/plain": [
              "<matplotlib.axes._subplots.AxesSubplot at 0x7f75823a4278>"
            ]
          },
          "execution_count": 477,
          "metadata": {},
          "output_type": "execute_result"
        },
        {
          "data": {
            "image/png": "[encoded data removed]",
            "text/plain": [
              "<Figure size 432x288 with 1 Axes>"
            ]
          },
          "metadata": {
            "needs_background": "light"
          },
          "output_type": "display_data"
        }
      ],
      "source": [
        "sns.countplot(y_res)"
      ]
    },
    {
      "cell_type": "code",
      "execution_count": null,
      "metadata": {
        "id": "NLtd70rRR-FY",
        "outputId": "cd265bdf-1c38-4819-ec3a-e373884bda8f"
      },
      "outputs": [
        {
          "data": {
            "text/html": [
              "<div>\n",
              "<style scoped>\n",
              "    .dataframe tbody tr th:only-of-type {\n",
              "        vertical-align: middle;\n",
              "    }\n",
              "\n",
              "    .dataframe tbody tr th {\n",
              "        vertical-align: top;\n",
              "    }\n",
              "\n",
              "    .dataframe thead th {\n",
              "        text-align: right;\n",
              "    }\n",
              "</style>\n",
              "<table border=\"1\" class=\"dataframe\">\n",
              "  <thead>\n",
              "    <tr style=\"text-align: right;\">\n",
              "      <th></th>\n",
              "      <th>alcalinity_of_ash</th>\n",
              "      <th>magnesium</th>\n",
              "      <th>flavanoids</th>\n",
              "      <th>color_intensity</th>\n",
              "      <th>proline</th>\n",
              "    </tr>\n",
              "  </thead>\n",
              "  <tbody>\n",
              "    <tr>\n",
              "      <th>0</th>\n",
              "      <td>15.6</td>\n",
              "      <td>1.0</td>\n",
              "      <td>3.06</td>\n",
              "      <td>5.64</td>\n",
              "      <td>1065.0</td>\n",
              "    </tr>\n",
              "    <tr>\n",
              "      <th>2</th>\n",
              "      <td>18.6</td>\n",
              "      <td>1.0</td>\n",
              "      <td>3.24</td>\n",
              "      <td>5.68</td>\n",
              "      <td>1185.0</td>\n",
              "    </tr>\n",
              "    <tr>\n",
              "      <th>4</th>\n",
              "      <td>21.0</td>\n",
              "      <td>1.0</td>\n",
              "      <td>2.69</td>\n",
              "      <td>4.32</td>\n",
              "      <td>735.0</td>\n",
              "    </tr>\n",
              "    <tr>\n",
              "      <th>6</th>\n",
              "      <td>14.6</td>\n",
              "      <td>1.0</td>\n",
              "      <td>2.52</td>\n",
              "      <td>5.25</td>\n",
              "      <td>1290.0</td>\n",
              "    </tr>\n",
              "    <tr>\n",
              "      <th>7</th>\n",
              "      <td>17.6</td>\n",
              "      <td>1.0</td>\n",
              "      <td>2.51</td>\n",
              "      <td>5.05</td>\n",
              "      <td>1295.0</td>\n",
              "    </tr>\n",
              "  </tbody>\n",
              "</table>\n",
              "</div>"
            ],
            "text/plain": [
              "    alcalinity_of_ash   magnesium   flavanoids   color_intensity   proline\n",
              "0                15.6         1.0         3.06              5.64    1065.0\n",
              "2                18.6         1.0         3.24              5.68    1185.0\n",
              "4                21.0         1.0         2.69              4.32     735.0\n",
              "6                14.6         1.0         2.52              5.25    1290.0\n",
              "7                17.6         1.0         2.51              5.05    1295.0"
            ]
          },
          "execution_count": 478,
          "metadata": {},
          "output_type": "execute_result"
        }
      ],
      "source": [
        "X.head()"
      ]
    },
    {
      "cell_type": "code",
      "execution_count": null,
      "metadata": {
        "id": "HkQZDiWAR-FZ"
      },
      "outputs": [],
      "source": [
        "from sklearn.preprocessing import StandardScaler\n",
        "scaler = StandardScaler()\n",
        "X_s = scaler.fit_transform(X_res)"
      ]
    },
    {
      "cell_type": "code",
      "execution_count": null,
      "metadata": {
        "id": "hWV7nTYuR-Fa"
      },
      "outputs": [],
      "source": [
        "# Cross validation\n",
        "from sklearn.model_selection import train_test_split"
      ]
    },
    {
      "cell_type": "code",
      "execution_count": null,
      "metadata": {
        "id": "9R1Ejhm-R-Fb"
      },
      "outputs": [],
      "source": [
        "X_train, X_test, y_train, y_test = train_test_split(\n",
        "    X_s, y_res, random_state = 0)"
      ]
    },
    {
      "cell_type": "code",
      "execution_count": null,
      "metadata": {
        "id": "YgexbasaR-Fb",
        "outputId": "aeac5d11-e064-49b4-9f72-249054b95bdd"
      },
      "outputs": [
        {
          "data": {
            "text/plain": [
              "(148, 5)"
            ]
          },
          "execution_count": 482,
          "metadata": {},
          "output_type": "execute_result"
        }
      ],
      "source": [
        "X_train.shape"
      ]
    },
    {
      "cell_type": "code",
      "execution_count": null,
      "metadata": {
        "id": "Epi-ZZYZR-Fc",
        "outputId": "bfa3188c-69db-4f36-949a-229444cedf6e"
      },
      "outputs": [
        {
          "data": {
            "text/plain": [
              "(50, 5)"
            ]
          },
          "execution_count": 483,
          "metadata": {},
          "output_type": "execute_result"
        }
      ],
      "source": [
        "X_test.shape"
      ]
    },
    {
      "cell_type": "code",
      "execution_count": null,
      "metadata": {
        "id": "nonTEG0CR-Fc"
      },
      "outputs": [],
      "source": [
        "from sklearn.neighbors import KNeighborsClassifier"
      ]
    },
    {
      "cell_type": "code",
      "execution_count": null,
      "metadata": {
        "id": "FHv_qkrXR-Fc"
      },
      "outputs": [],
      "source": [
        "#classifier = GaussianNB() # Normal\n",
        "classifier = KNeighborsClassifier(n_neighbors=5)"
      ]
    },
    {
      "cell_type": "code",
      "execution_count": null,
      "metadata": {
        "id": "l4zdcFdCR-Fd",
        "outputId": "dada8e6b-97bd-483c-bd8d-95b2ab1256e3"
      },
      "outputs": [
        {
          "data": {
            "text/plain": [
              "KNeighborsClassifier(algorithm='auto', leaf_size=30, metric='minkowski',\n",
              "                     metric_params=None, n_jobs=None, n_neighbors=5, p=2,\n",
              "                     weights='uniform')"
            ]
          },
          "execution_count": 486,
          "metadata": {},
          "output_type": "execute_result"
        }
      ],
      "source": [
        "classifier.fit(X_train, y_train)"
      ]
    },
    {
      "cell_type": "code",
      "execution_count": null,
      "metadata": {
        "id": "uaRh_DdqR-Fd"
      },
      "outputs": [],
      "source": [
        "y_pred = classifier.predict(X_test)"
      ]
    },
    {
      "cell_type": "code",
      "execution_count": null,
      "metadata": {
        "id": "zkIZV-9JR-Fe",
        "outputId": "97970892-4045-4976-b1be-c2a69eeca254"
      },
      "outputs": [
        {
          "data": {
            "text/plain": [
              "array([1, 3, 2, 3, 2, 2, 1, 3, 1, 1, 2, 2, 1, 2, 3, 1, 1, 3, 1, 3, 2, 1,\n",
              "       2, 1, 3, 3, 3, 3, 2, 2, 1, 3, 3, 2, 1, 3, 3, 1, 2, 3, 3, 3, 1, 2,\n",
              "       1, 2, 1, 3, 2, 3])"
            ]
          },
          "execution_count": 488,
          "metadata": {},
          "output_type": "execute_result"
        }
      ],
      "source": [
        "y_pred"
      ]
    },
    {
      "cell_type": "code",
      "execution_count": null,
      "metadata": {
        "id": "5olUmSMCR-Fe"
      },
      "outputs": [],
      "source": [
        "from sklearn.metrics import confusion_matrix"
      ]
    },
    {
      "cell_type": "code",
      "execution_count": null,
      "metadata": {
        "id": "pQECnt9cR-Fe",
        "outputId": "2d76063d-2a45-4908-b96e-3ed8c9571cf5"
      },
      "outputs": [
        {
          "data": {
            "text/plain": [
              "array([[16,  0,  0],\n",
              "       [ 0, 15,  0],\n",
              "       [ 0,  0, 19]])"
            ]
          },
          "execution_count": 490,
          "metadata": {},
          "output_type": "execute_result"
        }
      ],
      "source": [
        "confusion_matrix(y_test, y_pred)"
      ]
    },
    {
      "cell_type": "code",
      "execution_count": null,
      "metadata": {
        "id": "J6YZsNKAR-Ff"
      },
      "outputs": [],
      "source": [
        "from sklearn.metrics import classification_report"
      ]
    },
    {
      "cell_type": "code",
      "execution_count": null,
      "metadata": {
        "id": "QU3f9k1fR-Fg",
        "outputId": "7c4bcb80-d645-480d-fb51-60f8757d760b"
      },
      "outputs": [
        {
          "name": "stdout",
          "output_type": "stream",
          "text": [
            "              precision    recall  f1-score   support\n",
            "\n",
            "           1       1.00      1.00      1.00        16\n",
            "           2       1.00      1.00      1.00        15\n",
            "           3       1.00      1.00      1.00        19\n",
            "\n",
            "    accuracy                           1.00        50\n",
            "   macro avg       1.00      1.00      1.00        50\n",
            "weighted avg       1.00      1.00      1.00        50\n",
            "\n"
          ]
        }
      ],
      "source": [
        "print(classification_report(y_test, y_pred))"
      ]
    },
    {
      "cell_type": "code",
      "execution_count": null,
      "metadata": {
        "id": "rjV9Z0oXR-Fh"
      },
      "outputs": [],
      "source": [
        "from sklearn.metrics import accuracy_score"
      ]
    },
    {
      "cell_type": "code",
      "execution_count": null,
      "metadata": {
        "id": "4_sJarJSR-Fi",
        "outputId": "dd4f130b-d5d2-4c03-a861-5e0c336aa3e6"
      },
      "outputs": [
        {
          "data": {
            "text/plain": [
              "100.0"
            ]
          },
          "execution_count": 494,
          "metadata": {},
          "output_type": "execute_result"
        }
      ],
      "source": [
        "accuracy_score(y_test, y_pred) * 100"
      ]
    },
    {
      "cell_type": "code",
      "execution_count": null,
      "metadata": {
        "id": "JuEY0zaUR-Fi",
        "outputId": "f6e0ef0a-0c75-4fc6-dc19-a4bddef25ca8"
      },
      "outputs": [
        {
          "data": {
            "text/plain": [
              "['wine.model']"
            ]
          },
          "execution_count": 495,
          "metadata": {},
          "output_type": "execute_result"
        }
      ],
      "source": [
        "outputfile = 'wine.model'\n",
        "from sklearn.externals import joblib  \n",
        "joblib.dump(classifier, outputfile, compress=9) "
      ]
    },
    {
      "cell_type": "code",
      "execution_count": null,
      "metadata": {
        "id": "-D1wlztpR-Fj",
        "outputId": "1a2ac5a5-582c-4538-c28b-2a5c68103a3a"
      },
      "outputs": [
        {
          "data": {
            "text/plain": [
              "['scaler.model']"
            ]
          },
          "execution_count": 496,
          "metadata": {},
          "output_type": "execute_result"
        }
      ],
      "source": [
        "outputfile = 'scaler.model'\n",
        "from sklearn.externals import joblib  \n",
        "joblib.dump(scaler, outputfile, compress=9) "
      ]
    },
    {
      "cell_type": "code",
      "execution_count": null,
      "metadata": {
        "id": "bO3yKKGxR-Fj"
      },
      "outputs": [],
      "source": [
        "new = [[18.50,3.0,0.7,5.28,675]]\n",
        "new = scaler.transform(new)"
      ]
    },
    {
      "cell_type": "code",
      "execution_count": null,
      "metadata": {
        "id": "QIrPUEYAR-Fk",
        "outputId": "e991f263-2d37-4512-b127-9ed20b375a44"
      },
      "outputs": [
        {
          "data": {
            "text/plain": [
              "array([3])"
            ]
          },
          "execution_count": 498,
          "metadata": {},
          "output_type": "execute_result"
        }
      ],
      "source": [
        "classifier.predict(new)"
      ]
    },
    {
      "cell_type": "code",
      "execution_count": null,
      "metadata": {
        "id": "dpdOBETaR-Fk",
        "outputId": "53ce1882-47c7-461b-e725-36c7801a82bc"
      },
      "outputs": [
        {
          "data": {
            "text/plain": [
              "class                              3.00\n",
              "alcohol                           12.81\n",
              " malic_acid                        2.31\n",
              " ash                               2.40\n",
              " alcalinity_of_ash                24.00\n",
              " magnesium                         3.00\n",
              " total_phenols                     1.15\n",
              " flavanoids                        1.09\n",
              " nonflavanoid_phenols              0.27\n",
              " proanthocyanins                   0.83\n",
              " color_intensity                   5.70\n",
              " hue                               3.00\n",
              " od280/od315_of_diluted_wines      3.00\n",
              " proline                         560.00\n",
              "Name: 132, dtype: float64"
            ]
          },
          "execution_count": 501,
          "metadata": {},
          "output_type": "execute_result"
        }
      ],
      "source": [
        "data.iloc[132,:]"
      ]
    },
    {
      "cell_type": "code",
      "execution_count": null,
      "metadata": {
        "id": "9EWWFIWZR-Fl"
      },
      "outputs": [],
      "source": [
        "y_train[67]"
      ]
    },
    {
      "cell_type": "code",
      "execution_count": null,
      "metadata": {
        "id": "udIz4VzwR-Fl"
      },
      "outputs": [],
      "source": [
        ""
      ]
    }
  ],
  "metadata": {
    "kernelspec": {
      "display_name": "Python 3",
      "language": "python",
      "name": "python3"
    },
    "language_info": {
      "codemirror_mode": {
        "name": "ipython",
        "version": 3
      },
      "file_extension": ".py",
      "mimetype": "text/x-python",
      "name": "python",
      "nbconvert_exporter": "python",
      "pygments_lexer": "ipython3",
      "version": "3.5.2"
    },
    "colab": {
      "name": "Wine-Classes.ipynb",
      "provenance": []
    }
  },
  "nbformat": 4,
  "nbformat_minor": 0
}